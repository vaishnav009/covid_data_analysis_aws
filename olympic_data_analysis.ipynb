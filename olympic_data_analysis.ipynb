{
 "cells": [
  {
   "cell_type": "code",
   "execution_count": null,
   "id": "834dff7f",
   "metadata": {},
   "outputs": [],
   "source": [
    "import boto3\n",
    "import pandas as pd\n",
    "import time\n",
    "from io import StringIO # python3; python2: BytesIO"
   ]
  },
  {
   "cell_type": "code",
   "execution_count": 3,
   "id": "0c49a6e3",
   "metadata": {},
   "outputs": [],
   "source": [
    "AWS_ACCESS_KEY = \"\"\n",
    "AWS_SECRET_KEY = \"\"\n",
    "AWS_REGION = \"ap-south-1\"\n",
    "SCHEMA_NAME = \"covid_19\"\n",
    "S3_STAGING_DIR = \"s3://covid_data_analysis_project/output/\"\n",
    "S3_BUCKET_NAME = \"covid_data_analysis_project\"\n",
    "S3_OUTPUT_DIRECTORY = \"output\""
   ]
  },
  {
   "cell_type": "code",
   "execution_count": null,
   "id": "2a32c929",
   "metadata": {},
   "outputs": [],
   "source": [
    "athena_client = boto3.client(\n",
    "\"athena\",\n",
    "aws_access_key_id=AWS_ACCESS_KEY,\n",
    "aws_secret_access_key=AWS_SECRET_KEY,\n",
    "region_name=AWS_REGION,\n",
    ")"
   ]
  },
  {
   "cell_type": "code",
   "execution_count": null,
   "id": "72033fa6",
   "metadata": {},
   "outputs": [],
   "source": [
    "Dict = {}\n",
    "def download_and_load_query_results(client: boto3.client, query_response: Dict )-> pd.DataFrame:\n",
    "    while True:\n",
    "        try:\n",
    "        #This function only loads the first 1000 rows \n",
    "            client.get_query_results(\n",
    "                QueryExecutionId=query_response[\"QueryExecutionId\"])\n",
    "            break\n",
    "        except Exception as err:\n",
    "            if \"not yet finished\" in str(err):\n",
    "                time.sleep(0.001)\n",
    "            else:\n",
    "                raise err\n",
    "        temp_file_location: str = \"athena_query_results.csv\"\n",
    "        s3_client = boto3.client(\n",
    "            \"s3\",\n",
    "            aws_access_key_id=AWS_ACCESS_KEY,\n",
    "            aws_secret_access_key=AWS_SECRET_KEY,\n",
    "            region_name=AWS_REGION)\n",
    "        s3_client.download_file(S3_BUCKET_NAME,\n",
    "                                f\" {S3_OUTPUT_DIRECTORY}/{query_response['QueryExecutionId']}.csv\",\n",
    "                                temp_file_location)\n",
    "        return pd.read_csv(temp_file_location)"
   ]
  },
  {
   "cell_type": "code",
   "execution_count": null,
   "id": "4e8c4102",
   "metadata": {},
   "outputs": [],
   "source": [
    "response = athena_client.start_query_execution(\n",
    "    QueryString=\"SELECT * FROM enigma_jhud\",\n",
    "    QueryExecutionContext={\"Database\": SCHEMA_NAME},\n",
    "    ResultConfiguration={\n",
    "        \"OutputLocation\": S3_STAGING_DIR,\n",
    "        \"EncryptionConfiguration\": {\"EncryptionOption\": \"SSE_3\"}})"
   ]
  },
  {
   "cell_type": "code",
   "execution_count": null,
   "id": "e164816c",
   "metadata": {},
   "outputs": [],
   "source": [
    "response"
   ]
  },
  {
   "cell_type": "code",
   "execution_count": null,
   "id": "131affc2",
   "metadata": {},
   "outputs": [],
   "source": [
    "enigma_jhud = download_and_load_query_results(athena_client, response)"
   ]
  },
  {
   "cell_type": "code",
   "execution_count": null,
   "id": "058f404a",
   "metadata": {},
   "outputs": [],
   "source": [
    "enigma_jhud.head()"
   ]
  },
  {
   "cell_type": "code",
   "execution_count": null,
   "id": "95be14e1",
   "metadata": {},
   "outputs": [],
   "source": [
    "response = athena_client.start_query_execution(\n",
    "    QueryString=\"SELECT * FROM nytimes_data_in_usa_us_county\",\n",
    "    QueryExecutionContext={\"Database\": SCHEMA_NAME},\n",
    "    ResultConfiguration={\n",
    "    \"OutputLocation\": S3_STAGING_DIR,\n",
    "    \"EncryptionConfiguration\": {\"EncryptionOption\": \"SSE_S3\"}})"
   ]
  },
  {
   "cell_type": "code",
   "execution_count": null,
   "id": "f740c24d",
   "metadata": {},
   "outputs": [],
   "source": [
    "nytimes_data_in_usa_us_county = download_and_load_query_results (athena_client, response)"
   ]
  },
  {
   "cell_type": "code",
   "execution_count": null,
   "id": "68ecbb17",
   "metadata": {},
   "outputs": [],
   "source": [
    "response = athena_client.start_query_execution(\n",
    "    QueryString=\"SELECT * FROM nytimes_data_in_usa_us_states\",\n",
    "    QueryExecutionContext={\"Database\": SCHEMA_NAME},\n",
    "    ResultConfiguration={\n",
    "        \"OutputLocation\": S3_STAGING_DIR,\n",
    "        \"EncryptionConfiguration\": {\"EncryptionOption\": \"SSE_S3\"}})"
   ]
  },
  {
   "cell_type": "code",
   "execution_count": null,
   "id": "f42b2e57",
   "metadata": {},
   "outputs": [],
   "source": [
    "nytimes_data_in_usa_us_states = download_and_load_query_results (athena_client, response)"
   ]
  },
  {
   "cell_type": "code",
   "execution_count": null,
   "id": "aaaac707",
   "metadata": {},
   "outputs": [],
   "source": [
    "response = athena_client.start_query_execution(\n",
    "    QueryString=\"SELECT * FROM static_datacountrycode\",\n",
    "    QueryExecutionContext={\"Database\": SCHEMA_NAME},\n",
    "    ResultConfiguration={\n",
    "        \"OutputLocation\": S3_STAGING_DIR,\n",
    "        \"EncryptionConfiguration\": {\"EncryptionOption\": \"SSE_S3\"}})\n",
    "static_datacountrycode = download_and_load_query_results(athena_client, response)"
   ]
  },
  {
   "cell_type": "code",
   "execution_count": null,
   "id": "60cf28f7",
   "metadata": {},
   "outputs": [],
   "source": [
    "response = athena_client.start_query_execution (\n",
    "    QueryString=\"SELECT * FROM static_datacountypopulation\",\n",
    "    QueryExecutionContext={\"Database\": SCHEMA_NAME},\n",
    "    ResultConfiguration={\n",
    "        \"OutputLocation\": S3_STAGING_DIR,\n",
    "        \"EncryptionConfiguration\": {\"EncryptionOption\": \"SSE_S3\"}})\n",
    "static_datacountypopulation = download_and_load_query_results(athena_client, response)"
   ]
  },
  {
   "cell_type": "code",
   "execution_count": null,
   "id": "bcbf3456",
   "metadata": {},
   "outputs": [],
   "source": [
    "response = athena_client.start_query_execution(\n",
    "    QueryString=\"SELECT * FROM rearc_covid_19_testing_dataus_daily\",\n",
    "    QueryExecutionContext={\"Database\": SCHEMA_NAME},\n",
    "    ResultConfiguration={\n",
    "        \"OutputLocation\": S3_STAGING_DIR,\n",
    "        \"EncryptionConfiguration\": {\"EncryptionOption\": \"SSE_S3\"}})\n",
    "rearc_covid_19_testing_dataus_daily = download_and_load_query_results(athena_client, response)\n",
    "response = athena_client.start_query_execution(\n",
    "    QueryString=\"SELECT * FROM rearc_usa_hospital_beds\",\n",
    "    QueryExecutionContext={\"Database\": SCHEMA_NAME},\n",
    "    ResultConfiguration=\n",
    "        \"OutputLocation\": S3_STAGING_DIR,\n",
    "        \"EncryptionConfiguration\": {\"EncryptionOption\": \"SSE_S3\"}})\n",
    "rearc_usa_hospital_beds = download_and_load_query_results (athena_client, response)\n",
    "response = athena_client.start_query_execution(\n",
    "    QueryString=\"SELECT * FROM rearc_covid_19_testing_dataus_total_latest\",\n",
    "    QueryExecutionContext={\"Database\": SCHEMA_NAME},\n",
    "    ResultConfiguration={\n",
    "        \"OutputLocation\": S3_STAGING_DIR,\n",
    "        \"EncryptionConfiguration\": {\"EncryptionOption\": \"SSE_S3\"}})\n",
    "rearc_covid_19_testing_dataus_total_latest = download_and_load_query_results(athena_client, response)"
   ]
  },
  {
   "cell_type": "code",
   "execution_count": null,
   "id": "9dc3b12f",
   "metadata": {},
   "outputs": [],
   "source": [
    "response = athena_client.start_query_execution(\n",
    "    QueryString=\"SELECT * FROM rearc_covid_19_testing_data_states_dailystates_daily\",\n",
    "    QueryExecutionContext={\"Database\": SCHEMA_NAME},\n",
    "    ResultConfiguration={\n",
    "        \"OutputLocation\": S3_STAGING_DIR,\n",
    "        \"EncryptionConfiguration\": {\"EncryptionOption\": \"SSE_S3\"}})\n",
    "rearc_covid_19_testing_data_states_dailystates_daily = download_and_load_query_results (athena_client, response)"
   ]
  },
  {
   "cell_type": "code",
   "execution_count": null,
   "id": "f32fabc2",
   "metadata": {},
   "outputs": [],
   "source": [
    "response = athena_client.start_query_execution(\n",
    "    QueryString=\"SELECT * FROM static_datastate_abv\",\n",
    "    QueryExecutionContext={\"Database\": SCHEMA_NAME},\n",
    "    ResultConfiguration={\n",
    "        \"OutputLocation\": S3_STAGING_DIR,\n",
    "        \"EncryptionConfiguration\": {\"EncryptionOption\": \"SSE_S3\"}})\n",
    "static_datastate_abv = download_and_load_query_results(athena_client, response)"
   ]
  },
  {
   "cell_type": "code",
   "execution_count": null,
   "id": "64b7d1fc",
   "metadata": {},
   "outputs": [],
   "source": [
    "static_datastate_abv.head()"
   ]
  },
  {
   "cell_type": "code",
   "execution_count": null,
   "id": "2af31636",
   "metadata": {},
   "outputs": [],
   "source": [
    "new_header = static_datastate_abv.iloc[0]"
   ]
  },
  {
   "cell_type": "code",
   "execution_count": null,
   "id": "74321884",
   "metadata": {},
   "outputs": [],
   "source": [
    "static_datastate_abv = static_datastate_abv[1:]"
   ]
  },
  {
   "cell_type": "code",
   "execution_count": null,
   "id": "2b937164",
   "metadata": {},
   "outputs": [],
   "source": [
    "static_datastate_abv.columns = new_header"
   ]
  },
  {
   "cell_type": "code",
   "execution_count": null,
   "id": "180b48c8",
   "metadata": {},
   "outputs": [],
   "source": [
    "static_datastate_abv.head()"
   ]
  },
  {
   "cell_type": "code",
   "execution_count": null,
   "id": "6b019bc0",
   "metadata": {},
   "outputs": [],
   "source": [
    "factCovid_1 = enigma_jhud[['fips', 'province_state', 'country_region', 'confirmed', 'deaths', 'recovered', 'active']]\n",
    "factCovid_2 = rearc_covid_19_testing_data_states_dailystates_daily [['fips', 'date', 'positive', 'negative', 'hospitalizedcurrently', 'hospitalized', 'hospitalizeddischarged']] \n",
    "factCovid= pd.merge(factCovid_1, factCovid_2, on='fips', how='inner')"
   ]
  },
  {
   "cell_type": "code",
   "execution_count": null,
   "id": "380408e3",
   "metadata": {},
   "outputs": [],
   "source": [
    "factCovid.shape"
   ]
  },
  {
   "cell_type": "code",
   "execution_count": null,
   "id": "3389c2f8",
   "metadata": {},
   "outputs": [],
   "source": [
    "dimRegion_1 = enigma_jhud[['fips', 'province_state', 'country_region', 'latitude', 'longitude']]\n",
    "dimRegion_2 = nytimes_data_in_usa_us_county [['fips', 'county', 'state']]\n",
    "dimRegion = pd.merge(dimRegion_1, dimRegion_2, on='fips', how='inner')"
   ]
  },
  {
   "cell_type": "code",
   "execution_count": null,
   "id": "f0df4cc5",
   "metadata": {},
   "outputs": [],
   "source": [
    "dimHospital = rearc_usa_hospital_beds[['fips', 'state_name', 'latitude', 'longtitude', 'hq_address', 'hospital_name', 'hospital_type', 'hq_city', 'hq_state']]"
   ]
  },
  {
   "cell_type": "code",
   "execution_count": null,
   "id": "decc6a43",
   "metadata": {},
   "outputs": [],
   "source": [
    "dimDate = rearc_covid_19_testing_data_states_dailystates_daily[['fips', 'date']]"
   ]
  },
  {
   "cell_type": "code",
   "execution_count": null,
   "id": "45df981a",
   "metadata": {},
   "outputs": [],
   "source": [
    "dimDate.head()"
   ]
  },
  {
   "cell_type": "code",
   "execution_count": null,
   "id": "f79548d0",
   "metadata": {},
   "outputs": [],
   "source": [
    "dimDate['date'] = pd.to_datetime(dimDate['date'], format='%Y%m%d')"
   ]
  },
  {
   "cell_type": "code",
   "execution_count": null,
   "id": "6fa11ddd",
   "metadata": {},
   "outputs": [],
   "source": [
    "dimDate.head()"
   ]
  },
  {
   "cell_type": "code",
   "execution_count": null,
   "id": "5ea4101a",
   "metadata": {},
   "outputs": [],
   "source": [
    "dimDate['year'] = dimDate['date'].dt.year\n",
    "dimDate['month'] = dimDate['date'].dt.month\n",
    "dimDate['day_of_week'] = dimDate['date'].dt.dayofweek"
   ]
  },
  {
   "cell_type": "code",
   "execution_count": null,
   "id": "eacc8de5",
   "metadata": {},
   "outputs": [],
   "source": [
    "dimDate.head()"
   ]
  },
  {
   "cell_type": "code",
   "execution_count": null,
   "id": "c4201e5c",
   "metadata": {},
   "outputs": [],
   "source": [
    "bucket_name = 'covid_data_analysis_project'"
   ]
  },
  {
   "cell_type": "code",
   "execution_count": null,
   "id": "5b386280",
   "metadata": {},
   "outputs": [],
   "source": [
    "csv_buffer = StringIO()"
   ]
  },
  {
   "cell_type": "code",
   "execution_count": null,
   "id": "992a39a6",
   "metadata": {},
   "outputs": [],
   "source": [
    "factCovid.to_csv(csv_buffer)"
   ]
  },
  {
   "cell_type": "code",
   "execution_count": null,
   "id": "ccc2e9ce",
   "metadata": {},
   "outputs": [],
   "source": [
    "s3_resource = boto3.resource('s3')\n",
    "s3_resource.Object(bucket_name, 'transformed/output/factCovid.csv').put(Body=csv_buffer.getvalue())"
   ]
  },
  {
   "cell_type": "code",
   "execution_count": null,
   "id": "742533a6",
   "metadata": {},
   "outputs": [],
   "source": [
    "csv_buffer.getvalue()"
   ]
  },
  {
   "cell_type": "code",
   "execution_count": null,
   "id": "563ce16b",
   "metadata": {},
   "outputs": [],
   "source": [
    "csv_buffer = StringIO()\n",
    "dimRegion.to_csv(csv_buffer)\n",
    "s3_resource.Object(bucket_name, 'transformed/output/dimRegion.csv').put(Body=csv_buffer.getvalue())"
   ]
  },
  {
   "cell_type": "code",
   "execution_count": null,
   "id": "043bd304",
   "metadata": {},
   "outputs": [],
   "source": [
    "csv_buffer = StringIO()\n",
    "dimDate.to_csv(csv_buffer)\n",
    "s3_resource.Object(bucket_name, 'transformed/output/dimDate.csv').put(Body=csv_buffer.getvalue())"
   ]
  },
  {
   "cell_type": "code",
   "execution_count": null,
   "id": "31ca456a",
   "metadata": {},
   "outputs": [],
   "source": [
    "csv_buffer = StringIO()\n",
    "dimHospital.to_csv(csv_buffer)\n",
    "s3_resource.Object(bucket_name, 'transformed/output/dimHospital.csv').put(Body=csv_buffer.getvalue())"
   ]
  },
  {
   "cell_type": "code",
   "execution_count": null,
   "id": "7322b4f2",
   "metadata": {},
   "outputs": [],
   "source": [
    "dimHospitalsql = pd.io.sql.get_schema(dimHospital.reset_index(), 'dimHospital')\n",
    "print(''.join(dimHospitalsql))"
   ]
  },
  {
   "cell_type": "code",
   "execution_count": null,
   "id": "355b7a2b",
   "metadata": {},
   "outputs": [],
   "source": [
    "dimDatesql = pd.io.sql.get_schema(dimDate.reset_index(), 'dimDate')\n",
    "print(''.join(dimDatesql))"
   ]
  },
  {
   "cell_type": "code",
   "execution_count": null,
   "id": "0eb0b6e8",
   "metadata": {},
   "outputs": [],
   "source": [
    "dimRegionsql = pd.io.sql.get_schema(dimRegion.reset_index(), 'dimRegion')\n",
    "print(''.join(dimRegionsql))"
   ]
  },
  {
   "cell_type": "code",
   "execution_count": null,
   "id": "10e62943",
   "metadata": {},
   "outputs": [],
   "source": [
    "factCovidsql = pd.io.sql.get_schema(factCovid.reset_index(), 'factCovid')\n",
    "print(''.join(factCovidsql))"
   ]
  },
  {
   "cell_type": "code",
   "execution_count": null,
   "id": "cb55d0ec",
   "metadata": {
    "scrolled": true
   },
   "outputs": [],
   "source": [
    "import redshift_connector"
   ]
  },
  {
   "cell_type": "code",
   "execution_count": null,
   "id": "e081647c",
   "metadata": {},
   "outputs": [],
   "source": [
    "conn = redshift_connector.connect(\n",
    "    host='',\n",
    "    port='',\n",
    "    user='',\n",
    "    password='')"
   ]
  },
  {
   "cell_type": "code",
   "execution_count": null,
   "id": "9fe6ea43",
   "metadata": {},
   "outputs": [],
   "source": [
    "conn.autocommit = True"
   ]
  },
  {
   "cell_type": "code",
   "execution_count": null,
   "id": "bd75d53a",
   "metadata": {},
   "outputs": [],
   "source": [
    "cursor = redshift_connector.Cursor = conn.cursor()"
   ]
  },
  {
   "cell_type": "code",
   "execution_count": null,
   "id": "d9dc2f4f",
   "metadata": {},
   "outputs": [],
   "source": [
    "cursor.execute(\"\"\" CREATE TABLE \"dimDate\" (\n",
    "    \"index\" INTEGER,\n",
    "    \"fips\" INTEGER,\n",
    "    \"date\" TIMESTAMP,\n",
    "    \"year\" INTEGER,\n",
    "    \"month\" INTEGER,\n",
    "    \"day_of_week\" INTEGER\n",
    ")\n",
    "\"\"\")"
   ]
  },
  {
   "cell_type": "code",
   "execution_count": null,
   "id": "10a322fe",
   "metadata": {},
   "outputs": [],
   "source": [
    "cursor.execute(\"\"\"CREATE TABLE \"dimHospital\" (\n",
    "    \"index\" INTEGER,\n",
    "    \"fips\" REAL,\n",
    "    \"state_name\" TEXT, \"latitude\" REAL,\n",
    "    \"longtitude\" REAL,\n",
    "    \"hq_address\" TEXT,\n",
    "    \"hospital_name\" TEXT,\n",
    "    \"hospital_type\" TEXT,\n",
    "    \"hq_city\" TEXT,\n",
    "    \"hq_state\" TEXT)\"\"\")\n",
    "\n",
    "cursor.execute(\"\"\"CREATE TABLE \"factCovid\" (\n",
    "    \"index\" INTEGER,\n",
    "    \"fips\" REAL,\n",
    "    \"province_state\" TEXT,\n",
    "    \"country_region\" TEXT,\n",
    "    \"confirmed\" REAL,\n",
    "    \"deaths\" REAL,\n",
    "    \"recovered\" REAL,\n",
    "    \"active\" REAL,\n",
    "    \"date\" INTEGER,\n",
    "    \"positive\" REAL,\n",
    "    \"negative\" REAL,\n",
    "    \"hospitalizedcurrently\" REAL,\n",
    "    \"hospitalized\" REAL,\n",
    "    \"hospitalizeddischarged\" REAL)\"\"\")"
   ]
  },
  {
   "cell_type": "code",
   "execution_count": null,
   "id": "7dc7d15e",
   "metadata": {},
   "outputs": [],
   "source": [
    "cursor.execute(\"\"\"CREATE TABLE \"dimRegion\" (\n",
    "    \"index\" INTEGER,\n",
    "    \"fips\" REAL,\n",
    "    \"province_state\" TEXT,\n",
    "    \"country_region\" TEXT,\n",
    "    \"latitude\" REAL,\n",
    "    \"longitude\" REAL,\n",
    "    \"county\" TEXT,\n",
    "    \"state\" TEXT)\"\"\")"
   ]
  },
  {
   "cell_type": "code",
   "execution_count": null,
   "id": "9012e18d",
   "metadata": {},
   "outputs": [],
   "source": [
    "cursor.execute(\"\"\"\n",
    "copy factCovid from 's3://covid_data_analysis_project/transformed/output/factCovid.csv'\n",
    "credentials 'aws_iam_role=arn:aws:iam::206986907456:role/redshift-s3-access'\n",
    "delimiter','\n",
    "region 'ap-south-1'\n",
    "IGNOREHEADER 1\"\"\")"
   ]
  },
  {
   "cell_type": "code",
   "execution_count": null,
   "id": "78aa7be8",
   "metadata": {},
   "outputs": [],
   "source": [
    "cursor.execute(\"\"\"\n",
    "copy dimRegion from 's3://covid_data_analysis_project/transformed/output/dimRegion.csv'\n",
    "credentials 'aws_iam_role=arn:aws:iam::206986907456:role/redshift-s3-access'\n",
    "delimiter','\n",
    "region 'ap-south-1'\n",
    "IGNOREHEADER 1\"\"\")"
   ]
  },
  {
   "cell_type": "code",
   "execution_count": null,
   "id": "4c223ca5",
   "metadata": {},
   "outputs": [],
   "source": [
    "cursor.execute(\"\"\"\n",
    "copy dimDate from 's3://covid_data_analysis_project/transformed/output/dimDate.csv'\n",
    "credentials 'aws_iam_role=arn:aws:iam::206986907456:role/redshift-s3-access'\n",
    "delimiter','\n",
    "region 'ap-south-1'\n",
    "IGNOREHEADER 1\"\"\")"
   ]
  },
  {
   "cell_type": "code",
   "execution_count": null,
   "id": "b82f97ef",
   "metadata": {},
   "outputs": [],
   "source": [
    "cursor.execute(\"\"\"\n",
    "copy dimHospital from 's3://covid_data_analysis_project/transformed/output/dimHospital.csv'\n",
    "credentials 'aws_iam_role=arn:aws:iam::206986907456:role/redshift-s3-access'\n",
    "delimiter','\n",
    "region 'ap-south-1'\n",
    "IGNOREHEADER 1\"\"\")"
   ]
  }
 ],
 "metadata": {
  "kernelspec": {
   "display_name": "Python 3 (ipykernel)",
   "language": "python",
   "name": "python3"
  },
  "language_info": {
   "codemirror_mode": {
    "name": "ipython",
    "version": 3
   },
   "file_extension": ".py",
   "mimetype": "text/x-python",
   "name": "python",
   "nbconvert_exporter": "python",
   "pygments_lexer": "ipython3",
   "version": "3.9.13"
  }
 },
 "nbformat": 4,
 "nbformat_minor": 5
}
